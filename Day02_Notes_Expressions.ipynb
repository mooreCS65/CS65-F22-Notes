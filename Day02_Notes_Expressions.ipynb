{
  "nbformat": 4,
  "nbformat_minor": 0,
  "metadata": {
    "colab": {
      "provenance": []
    },
    "kernelspec": {
      "name": "python3",
      "display_name": "Python 3"
    },
    "language_info": {
      "name": "python"
    }
  },
  "cells": [
    {
      "cell_type": "markdown",
      "source": [
        "# Day02 Notes: Expressions\n",
        "__CS 65: Introduction to Computer Science__"
      ],
      "metadata": {
        "id": "UDOjvlTMgBFI"
      }
    },
    {
      "cell_type": "code",
      "execution_count": 2,
      "metadata": {
        "colab": {
          "base_uri": "https://localhost:8080/"
        },
        "id": "TDJVrZCagAf4",
        "outputId": "ad956a8e-23c5-4313-a5a3-8423c682ed90"
      },
      "outputs": [
        {
          "output_type": "stream",
          "name": "stdout",
          "text": [
            "Total field trip lunches: 52\n"
          ]
        }
      ],
      "source": [
        "num_students = 42\n",
        "num_adults = 10\n",
        "total_field_trip_lunches = num_students + num_adults\n",
        "print(\"Total field trip lunches:\", total_field_trip_lunches)"
      ]
    },
    {
      "cell_type": "markdown",
      "source": [
        "`num_students + num_adults` is *evaluated* --which results in an answer, so it is an expression\n",
        "\n",
        "expressions include __operators__, like `+`, and __operands__ like `num_students`, and `num_adults`\n",
        "\n",
        "## Arithmetic Operators\n",
        "Python supports all of the arithmetic operators you know and love:\n",
        "\n",
        "| **Operator** | **Name**       | **Example**    |\n",
        "|--------------|----------------|----------------|\n",
        "| `( )`        | Parentheses    |  `y = 2*(x-1)` |\n",
        "| `**`         | Exponent       | `y = x**2`     |\n",
        "| `*`          | Multiplication | `y = x*2`      |\n",
        "| `/`          | Division       | `y = x/2`      |\n",
        "| `+`          | Addition       | `y = x + 2`    |\n",
        "| `-`          | Subtraction    | `y = x - 2`    |\n",
        "\n",
        "PEMDAS order of operation"
      ],
      "metadata": {
        "id": "1j7wr4YcgSn2"
      }
    },
    {
      "cell_type": "code",
      "source": [
        "6/2*(1+2)"
      ],
      "metadata": {
        "colab": {
          "base_uri": "https://localhost:8080/"
        },
        "id": "GctvCGR9gQ-D",
        "outputId": "13ff68f4-c8bc-4c05-9d9a-be28208f9274"
      },
      "execution_count": 3,
      "outputs": [
        {
          "output_type": "execute_result",
          "data": {
            "text/plain": [
              "9.0"
            ]
          },
          "metadata": {},
          "execution_count": 3
        }
      ]
    },
    {
      "cell_type": "code",
      "source": [
        "2**4"
      ],
      "metadata": {
        "colab": {
          "base_uri": "https://localhost:8080/"
        },
        "id": "dT58DjwtsN9Y",
        "outputId": "5eccbff6-a4e1-4386-afd7-7e0a1142f304"
      },
      "execution_count": 4,
      "outputs": [
        {
          "output_type": "execute_result",
          "data": {
            "text/plain": [
              "16"
            ]
          },
          "metadata": {},
          "execution_count": 4
        }
      ]
    },
    {
      "cell_type": "markdown",
      "source": [
        "## Keeping it simple\n",
        "Just becuase you **can** write really complex expressions in Python doesn't mean you **should**."
      ],
      "metadata": {
        "id": "_Ea4njJpsP3b"
      }
    },
    {
      "cell_type": "code",
      "source": [
        "vacation_budget = (2.70 * 1224/32) + ((8-1) * 96) + (8 * ((40*4)+100)) + (4 * 190)\n",
        "print(\"Vacation budget:\",vacation_budget)"
      ],
      "metadata": {
        "colab": {
          "base_uri": "https://localhost:8080/"
        },
        "id": "ImgFSQxFsOvJ",
        "outputId": "627df1f7-7859-4688-f01d-3eaf9c517373"
      },
      "execution_count": 5,
      "outputs": [
        {
          "output_type": "stream",
          "name": "stdout",
          "text": [
            "Vacation budget: 3615.275\n"
          ]
        }
      ]
    },
    {
      "cell_type": "code",
      "source": [
        "avg_gas_estimate = 2.70\n",
        "round_trip_miles_to_memphis = 1224\n",
        "vehicle_mpg = 32\n",
        "gas_cost = avg_gas_estimate * (round_trip_miles_to_memphis/vehicle_mpg)\n",
        "\n",
        "vacation_days = 8\n",
        "\n",
        "hotel_nights = vacation_days-1\n",
        "hotel_per_night_cost = 96\n",
        "lodging_cost = hotel_nights * hotel_per_night_cost\n",
        "\n",
        "food_per_person_per_day = 40\n",
        "num_people = 4\n",
        "total_food_per_day = food_per_person_per_day*num_people\n",
        "souvenirs_and_incidentals_per_day = 100\n",
        "food_and_incidental_cost = vacation_days*(total_food_per_day+souvenirs_and_incidentals_per_day)\n",
        "\n",
        "graceland_ticket_cost = 190\n",
        "graceland_cost = num_people * graceland_ticket_cost\n",
        "\n",
        "vacation_budget = gas_cost + lodging_cost + food_and_incidental_cost + graceland_cost\n",
        "print(\"Vacation budget:\",vacation_budget)"
      ],
      "metadata": {
        "colab": {
          "base_uri": "https://localhost:8080/"
        },
        "id": "bUXefsWzsYhg",
        "outputId": "4dee5c65-710e-4811-f827-12264db621d1"
      },
      "execution_count": 6,
      "outputs": [
        {
          "output_type": "stream",
          "name": "stdout",
          "text": [
            "Vacation budget: 3615.275\n"
          ]
        }
      ]
    },
    {
      "cell_type": "markdown",
      "source": [
        "## Some new Operators `//` and `%`"
      ],
      "metadata": {
        "id": "lME0-oQmsirp"
      }
    },
    {
      "cell_type": "markdown",
      "source": [
        "The `//` operator does what we call **floor division**\n",
        "Suppose we have two integers:"
      ],
      "metadata": {
        "id": "1OOtx7Jrsz02"
      }
    },
    {
      "cell_type": "code",
      "source": [
        "101 / 4"
      ],
      "metadata": {
        "id": "1_mfj2xUtMNH"
      },
      "execution_count": null,
      "outputs": []
    },
    {
      "cell_type": "markdown",
      "source": [
        "In this division, 101 is called the **numerator** (`N`) while 4 is called the **demoninator** (`D`).\n",
        "\n",
        "The integer division of `101/4` returns `25` with the remainder `1`. In other words:\n",
        "\n",
        "`101 / 4 = 25 with remainder 1`\n",
        "\n",
        "Or to put it another way: \n",
        "\n",
        "`101 / 4 = 4 * 25 + 1`\n",
        "\n",
        "Python uses two operators `//` and `%` that returns the result of teh division:\n",
        "\n",
        "`101 // 4 = 25`\n",
        "`101 % 4 = 1`\n",
        "\n",
        "The `//` is called the **floor division operator** or div. And teh `%` is called the **modulo operator** or mod.\n",
        "\n",
        "### Practice Exercise:\n",
        "Let's try practicing with these operators in Thonny. Copy and paste the following into the shell line by line and try to predict what the result will be:"
      ],
      "metadata": {
        "id": "u19VLw60tOmc"
      }
    },
    {
      "cell_type": "code",
      "source": [
        "56 // 10\n",
        "56 % 10\n",
        "23 // 11\n",
        "23 % 23"
      ],
      "metadata": {
        "id": "_Mz2qU9Stezl"
      },
      "execution_count": null,
      "outputs": []
    },
    {
      "cell_type": "markdown",
      "source": [
        "### `%` in Practice:\n",
        "One common way that the `%` operator is used is to tell whether a number is even or odd:\n",
        "\n",
        "If a number, `x` is even, then taking `x%2` should result in `0`. If a number is odd, `x%2` will be `1`. "
      ],
      "metadata": {
        "id": "hWqnzuyawwjB"
      }
    }
  ]
}