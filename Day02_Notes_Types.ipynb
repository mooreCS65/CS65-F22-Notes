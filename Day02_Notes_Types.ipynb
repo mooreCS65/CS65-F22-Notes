{
  "nbformat": 4,
  "nbformat_minor": 0,
  "metadata": {
    "colab": {
      "provenance": []
    },
    "kernelspec": {
      "name": "python3",
      "display_name": "Python 3"
    },
    "language_info": {
      "name": "python"
    }
  },
  "cells": [
    {
      "cell_type": "markdown",
      "source": [
        "# Day 02 Notes -- Types\n",
        "__CS65: Introduction to Computer Science I__\n"
      ],
      "metadata": {
        "id": "S3uqZs9l6oXh"
      }
    },
    {
      "cell_type": "markdown",
      "source": [
        "## Values we've seen so far\n",
        "\n",
        "So far, we've seen different kinds of data"
      ],
      "metadata": {
        "id": "p4gnbGNO6224"
      }
    },
    {
      "cell_type": "code",
      "execution_count": null,
      "metadata": {
        "colab": {
          "base_uri": "https://localhost:8080/"
        },
        "id": "xao8tw1d6ngL",
        "outputId": "e676f9b1-ec44-4484-e31f-fc744999c936"
      },
      "outputs": [
        {
          "output_type": "stream",
          "name": "stdout",
          "text": [
            "Hello world!\n"
          ]
        }
      ],
      "source": [
        "num_students = 42 #whole numbers\n",
        "avg_gas_estimate = 2.70 #numbers with decimal\n",
        "print(\"Hello world!\") #text data"
      ]
    },
    {
      "cell_type": "markdown",
      "source": [
        "All data has a __type__ which defines what kind of thing it is and what you can do with it."
      ],
      "metadata": {
        "id": "0tgMKJ4I66uj"
      }
    },
    {
      "cell_type": "markdown",
      "source": [
        "## Names of some types\n",
        "\n",
        "__integer:__ whole numbers\n",
        "\n",
        "__floating point:__ numbers with decimal points\n",
        "\n",
        "__string:__ text data\n",
        "\n",
        "The `type()` function can be used to tell you what kind of type something is. \n",
        "\n",
        "Both values and variables can have types."
      ],
      "metadata": {
        "id": "ULkD8xSK68wx"
      }
    },
    {
      "cell_type": "code",
      "source": [
        "type(2.70)"
      ],
      "metadata": {
        "colab": {
          "base_uri": "https://localhost:8080/"
        },
        "id": "Xi-lKvBV64eT",
        "outputId": "cce1eca2-3480-4260-d2b5-6b7fcc1d06a7"
      },
      "execution_count": null,
      "outputs": [
        {
          "output_type": "execute_result",
          "data": {
            "text/plain": [
              "float"
            ]
          },
          "metadata": {},
          "execution_count": 2
        }
      ]
    },
    {
      "cell_type": "code",
      "source": [
        "type(avg_gas_estimate)"
      ],
      "metadata": {
        "colab": {
          "base_uri": "https://localhost:8080/"
        },
        "id": "qig_mCOX6-a4",
        "outputId": "9ab95d22-4e60-4ff2-a144-428c96351e3f"
      },
      "execution_count": null,
      "outputs": [
        {
          "output_type": "execute_result",
          "data": {
            "text/plain": [
              "float"
            ]
          },
          "metadata": {},
          "execution_count": 3
        }
      ]
    },
    {
      "cell_type": "code",
      "source": [
        "type(\"Hello world\")"
      ],
      "metadata": {
        "colab": {
          "base_uri": "https://localhost:8080/"
        },
        "id": "EpCrEqUO7AFC",
        "outputId": "72cc34ff-6869-4be6-88cc-e4dea801ffa9"
      },
      "execution_count": null,
      "outputs": [
        {
          "output_type": "execute_result",
          "data": {
            "text/plain": [
              "str"
            ]
          },
          "metadata": {},
          "execution_count": 4
        }
      ]
    },
    {
      "cell_type": "code",
      "source": [
        "type(num_students)"
      ],
      "metadata": {
        "colab": {
          "base_uri": "https://localhost:8080/"
        },
        "id": "ihxsbexq7BRi",
        "outputId": "bd410e2b-9314-4b28-d3ae-774fb97b3fe5"
      },
      "execution_count": null,
      "outputs": [
        {
          "output_type": "execute_result",
          "data": {
            "text/plain": [
              "int"
            ]
          },
          "metadata": {},
          "execution_count": 5
        }
      ]
    },
    {
      "cell_type": "markdown",
      "source": [
        "## Expressions on strings\n",
        "\n",
        "We've seen how arithmetic operators work on numerical types like ints and floats.\n",
        "\n",
        "Strings have their own operators too - and some look like arithmetic operators!"
      ],
      "metadata": {
        "id": "TN4K-fa37EEx"
      }
    },
    {
      "cell_type": "code",
      "source": [
        "greeting = \"Hello\"\n",
        "name = \"Meredith\"\n",
        "greeting+name"
      ],
      "metadata": {
        "colab": {
          "base_uri": "https://localhost:8080/",
          "height": 35
        },
        "id": "HaxVAchS7CdK",
        "outputId": "e67090bd-d62b-4d08-bb4e-f6378ad89bcb"
      },
      "execution_count": null,
      "outputs": [
        {
          "output_type": "execute_result",
          "data": {
            "text/plain": [
              "'HelloMeredith'"
            ],
            "application/vnd.google.colaboratory.intrinsic+json": {
              "type": "string"
            }
          },
          "metadata": {},
          "execution_count": 6
        }
      ]
    },
    {
      "cell_type": "code",
      "source": [
        "greeting-name #not allowed"
      ],
      "metadata": {
        "colab": {
          "base_uri": "https://localhost:8080/",
          "height": 169
        },
        "id": "eV9hUJAn7Grd",
        "outputId": "36ee372e-cb37-4a23-8584-a466e4f650fb"
      },
      "execution_count": null,
      "outputs": [
        {
          "output_type": "error",
          "ename": "TypeError",
          "evalue": "ignored",
          "traceback": [
            "\u001b[0;31m---------------------------------------------------------------------------\u001b[0m",
            "\u001b[0;31mTypeError\u001b[0m                                 Traceback (most recent call last)",
            "\u001b[0;32m<ipython-input-7-ea5c4b3c4eb7>\u001b[0m in \u001b[0;36m<module>\u001b[0;34m\u001b[0m\n\u001b[0;32m----> 1\u001b[0;31m \u001b[0mgreeting\u001b[0m\u001b[0;34m-\u001b[0m\u001b[0mname\u001b[0m \u001b[0;31m#not allowed\u001b[0m\u001b[0;34m\u001b[0m\u001b[0;34m\u001b[0m\u001b[0m\n\u001b[0m",
            "\u001b[0;31mTypeError\u001b[0m: unsupported operand type(s) for -: 'str' and 'str'"
          ]
        }
      ]
    },
    {
      "cell_type": "markdown",
      "source": [
        "## Can't apply all string operations to numbers\n",
        "\n",
        "Similarly, you can't do everything with numbers that you can with strings."
      ],
      "metadata": {
        "id": "YBCbwLRk7KNg"
      }
    },
    {
      "cell_type": "code",
      "source": [
        "len(name)"
      ],
      "metadata": {
        "colab": {
          "base_uri": "https://localhost:8080/"
        },
        "id": "1B1locC67IoG",
        "outputId": "aff473aa-6223-4919-836f-3ebd47ac72b0"
      },
      "execution_count": null,
      "outputs": [
        {
          "output_type": "execute_result",
          "data": {
            "text/plain": [
              "8"
            ]
          },
          "metadata": {},
          "execution_count": 8
        }
      ]
    },
    {
      "cell_type": "code",
      "source": [
        "len(num_students)"
      ],
      "metadata": {
        "colab": {
          "base_uri": "https://localhost:8080/",
          "height": 169
        },
        "id": "U2MTscdK7MKL",
        "outputId": "19f957a6-459a-41bc-c646-99a94e88c7a6"
      },
      "execution_count": null,
      "outputs": [
        {
          "output_type": "error",
          "ename": "TypeError",
          "evalue": "ignored",
          "traceback": [
            "\u001b[0;31m---------------------------------------------------------------------------\u001b[0m",
            "\u001b[0;31mTypeError\u001b[0m                                 Traceback (most recent call last)",
            "\u001b[0;32m<ipython-input-9-5c4b8b950dfb>\u001b[0m in \u001b[0;36m<module>\u001b[0;34m\u001b[0m\n\u001b[0;32m----> 1\u001b[0;31m \u001b[0mlen\u001b[0m\u001b[0;34m(\u001b[0m\u001b[0mnum_students\u001b[0m\u001b[0;34m)\u001b[0m\u001b[0;34m\u001b[0m\u001b[0;34m\u001b[0m\u001b[0m\n\u001b[0m",
            "\u001b[0;31mTypeError\u001b[0m: object of type 'int' has no len()"
          ]
        }
      ]
    },
    {
      "cell_type": "markdown",
      "source": [
        "## Other types we'll see\n",
        "\n",
        "There are several other built-in types that we'll hear more about later like\n",
        "\n",
        "__Boolean:__ can have value `True` or `False`\n",
        "\n",
        "__List:__ for keeping track of a sequence of values"
      ],
      "metadata": {
        "id": "eOmrJMWK7PQu"
      }
    },
    {
      "cell_type": "code",
      "source": [
        "type(False)"
      ],
      "metadata": {
        "id": "xWxwlwod7NX2",
        "outputId": "ef7d89a1-ad8d-4a5a-88bf-73b314e71140",
        "colab": {
          "base_uri": "https://localhost:8080/"
        }
      },
      "execution_count": null,
      "outputs": [
        {
          "output_type": "execute_result",
          "data": {
            "text/plain": [
              "bool"
            ]
          },
          "metadata": {},
          "execution_count": 10
        }
      ]
    },
    {
      "cell_type": "code",
      "source": [
        "type([1,2,3])"
      ],
      "metadata": {
        "id": "-qzLPudB7QuU",
        "outputId": "7ee0c31f-544b-441d-fb76-54020db6c022",
        "colab": {
          "base_uri": "https://localhost:8080/"
        }
      },
      "execution_count": null,
      "outputs": [
        {
          "output_type": "execute_result",
          "data": {
            "text/plain": [
              "list"
            ]
          },
          "metadata": {},
          "execution_count": 11
        }
      ]
    },
    {
      "cell_type": "markdown",
      "source": [
        "You can even make your own types or use those that others have created."
      ],
      "metadata": {
        "id": "tugz2oXy7TfB"
      }
    }
  ]
}