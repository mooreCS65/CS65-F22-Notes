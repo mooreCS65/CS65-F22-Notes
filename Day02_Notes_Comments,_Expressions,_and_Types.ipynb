{
  "nbformat": 4,
  "nbformat_minor": 0,
  "metadata": {
    "colab": {
      "provenance": [],
      "toc_visible": true
    },
    "kernelspec": {
      "name": "python3",
      "display_name": "Python 3"
    },
    "language_info": {
      "name": "python"
    }
  },
  "cells": [
    {
      "cell_type": "markdown",
      "source": [
        "#Comments\n",
        "#### CS 65: Introduction to Computer Science I"
      ],
      "metadata": {
        "id": "yzF1uJY96Cgb"
      }
    },
    {
      "cell_type": "markdown",
      "source": [
        "## Programming for humans\n",
        "\n",
        "__Comments:__ elements of a program which are ignored by the interpreter\n",
        "* help document how to use the code properly\n",
        "* explain what's going on with more complex code\n",
        "* cite references\n",
        "* temporarily ignore some code\n",
        "* anything for the sake of humans (you and others)\n"
      ],
      "metadata": {
        "id": "VHyQJFuT5_3r"
      }
    },
    {
      "cell_type": "markdown",
      "source": [
        "`#` starts a comment - everything on the rest of the line is ignored"
      ],
      "metadata": {
        "id": "q_HC4QxA6Ioz"
      }
    },
    {
      "cell_type": "code",
      "execution_count": null,
      "metadata": {
        "id": "k5e-iwrf5x3F"
      },
      "outputs": [],
      "source": [
        "avg_gas_estimate = 2.70  #current price per gallon in Des Moines\n",
        "round_trip_miles_to_memphis = 1224\n",
        "vehicle_mpg = 32\n",
        "gas_cost = avg_gas_estimate * (round_trip_miles_to_memphis/vehicle_mpg)"
      ]
    },
    {
      "cell_type": "markdown",
      "source": [
        "## Multiline comments\n",
        "\n",
        "Text surrounded by three sets of quotes will all be ignored - spanning multiple lines"
      ],
      "metadata": {
        "id": "1PihMGys6MR_"
      }
    },
    {
      "cell_type": "code",
      "source": [
        "\"\"\"\n",
        "Here are some estimates used to help calculate\n",
        "the budget for our vacation to Memphis next\n",
        "spring break.\n",
        "\"\"\"\n",
        "avg_gas_estimate = 2.70 #current price in Des Moines\n",
        "round_trip_miles_to_memphis = 1224\n",
        "vehicle_mpg = 32\n",
        "gas_cost = avg_gas_estimate * (round_trip_miles_to_memphis/vehicle_mpg)"
      ],
      "metadata": {
        "id": "4ZklleUC6KuO"
      },
      "execution_count": null,
      "outputs": []
    },
    {
      "cell_type": "markdown",
      "source": [
        "## Common uses"
      ],
      "metadata": {
        "id": "Z_eao3gW6Pvn"
      }
    },
    {
      "cell_type": "code",
      "source": [
        "avg_gas_estimate = 2.70 #current price in Des Moines\n",
        "round_trip_miles_to_memphis = 1224\n",
        "vehicle_mpg = 32\n",
        "gas_cost = avg_gas_estimate * (round_trip_miles_to_memphis/vehicle_mpg)\n",
        "\n",
        "vacation_days = 8\n",
        "\n",
        "#camping_nights = 3\n",
        "#hotel_nights = vacation_days-1-camping_nights\n",
        "hotel_nights = vacation_days-1\n",
        "hotel_per_night_cost = 96 #Airbnb near Graceland\n",
        "lodging_cost = hotel_nights * hotel_per_night_cost\n",
        "\n",
        "food_per_person_per_day = 40\n",
        "num_people = 4\n",
        "total_food_per_day = food_per_person_per_day*num_people\n",
        "souvenirs_and_incidentals_per_day = 100\n",
        "food_and_incidental_cost = vacation_days*(total_food_per_day+souvenirs_and_incidentals_per_day)\n",
        "\n",
        "#TODO: look up cost for a Grizzlies game and see if we can afford it\n",
        "\n",
        "#https://www.graceland.com/ticket-information\n",
        "graceland_ticket_cost = 190\n",
        "graceland_cost = num_people * graceland_ticket_cost\n",
        "\n",
        "vacation_budget = gas_cost + lodging_cost + food_and_incidental_cost + graceland_cost\n",
        "print(\"Vacation budget:\",vacation_budget)"
      ],
      "metadata": {
        "colab": {
          "base_uri": "https://localhost:8080/"
        },
        "id": "sghEpOXn6OIC",
        "outputId": "ff913f34-970e-4ac4-b8e2-4d16a60d71c1"
      },
      "execution_count": null,
      "outputs": [
        {
          "output_type": "stream",
          "name": "stdout",
          "text": [
            "Vacation budget: 3615.275\n"
          ]
        }
      ]
    },
    {
      "cell_type": "markdown",
      "source": [
        "# Expressions"
      ],
      "metadata": {
        "id": "elAIzCtYE08s"
      }
    },
    {
      "cell_type": "code",
      "source": [
        "num_students = 42\n",
        "num_adults = 10\n",
        "total_field_trip_lunches = num_students + num_adults\n",
        "print(\"Total field trip lunches:\", total_field_trip_lunches)"
      ],
      "metadata": {
        "id": "pR-NzQjb6S7p",
        "colab": {
          "base_uri": "https://localhost:8080/"
        },
        "outputId": "74c1281c-733c-4f6b-e733-7a904c9f417a"
      },
      "execution_count": 5,
      "outputs": [
        {
          "output_type": "stream",
          "name": "stdout",
          "text": [
            "Total field trip lunches: 52\n"
          ]
        }
      ]
    },
    {
      "cell_type": "markdown",
      "source": [
        "`num_students + num_adults` is *evaluated* --which results in an answer, so it is an expression\n",
        "\n",
        "expressions include __operators__, like `+`, and __operands__ like `num_students`, and `num_adults`\n",
        "\n",
        "## Arithmetic Operators\n",
        "Python supports all of the arithmetic operators you know and love:\n",
        "\n",
        "| **Operator** | **Name**       | **Example**    |\n",
        "|--------------|----------------|----------------|\n",
        "| `( )`        | Parentheses    |  `y = 2*(x-1)` |\n",
        "| `**`         | Exponent       | `y = x**2`     |\n",
        "| `*`          | Multiplication | `y = x*2`      |\n",
        "| `/`          | Division       | `y = x/2`      |\n",
        "| `+`          | Addition       | `y = x + 2`    |\n",
        "| `-`          | Subtraction    | `y = x - 2`    |\n",
        "\n",
        "PEMDAS order of operation"
      ],
      "metadata": {
        "id": "HKfMeDg4E6kW"
      }
    },
    {
      "cell_type": "code",
      "source": [
        "6/2*(1+2)"
      ],
      "metadata": {
        "colab": {
          "base_uri": "https://localhost:8080/"
        },
        "id": "bTKIgpqNE4-k",
        "outputId": "e846c7b0-638a-4154-8679-652eeff40c3d"
      },
      "execution_count": 6,
      "outputs": [
        {
          "output_type": "execute_result",
          "data": {
            "text/plain": [
              "9.0"
            ]
          },
          "metadata": {},
          "execution_count": 6
        }
      ]
    },
    {
      "cell_type": "code",
      "source": [
        "2**4"
      ],
      "metadata": {
        "colab": {
          "base_uri": "https://localhost:8080/"
        },
        "id": "VpyyiaezE8mx",
        "outputId": "5b82d12e-c4bd-4809-cda1-03bf5dc70cb1"
      },
      "execution_count": 7,
      "outputs": [
        {
          "output_type": "execute_result",
          "data": {
            "text/plain": [
              "16"
            ]
          },
          "metadata": {},
          "execution_count": 7
        }
      ]
    },
    {
      "cell_type": "markdown",
      "source": [
        "## Keeping it simple\n",
        "Just becuase you **can** write really complex expressions in Python doesn't mean you **should**."
      ],
      "metadata": {
        "id": "IhFOawHeE_ec"
      }
    },
    {
      "cell_type": "code",
      "source": [
        "vacation_budget = (2.70 * 1224/32) + ((8-1) * 96) + (8 * ((40*4)+100)) + (4 * 190)\n",
        "print(\"Vacation budget:\",vacation_budget)"
      ],
      "metadata": {
        "colab": {
          "base_uri": "https://localhost:8080/"
        },
        "id": "IXFCDopHE92a",
        "outputId": "975e3b0c-bf2a-439d-d67d-84461b46ce39"
      },
      "execution_count": 8,
      "outputs": [
        {
          "output_type": "stream",
          "name": "stdout",
          "text": [
            "Vacation budget: 3615.275\n"
          ]
        }
      ]
    },
    {
      "cell_type": "code",
      "source": [
        "avg_gas_estimate = 2.70\n",
        "round_trip_miles_to_memphis = 1224\n",
        "vehicle_mpg = 32\n",
        "gas_cost = avg_gas_estimate * (round_trip_miles_to_memphis/vehicle_mpg)\n",
        "\n",
        "vacation_days = 8\n",
        "\n",
        "hotel_nights = vacation_days-1\n",
        "hotel_per_night_cost = 96\n",
        "lodging_cost = hotel_nights * hotel_per_night_cost\n",
        "\n",
        "food_per_person_per_day = 40\n",
        "num_people = 4\n",
        "total_food_per_day = food_per_person_per_day*num_people\n",
        "souvenirs_and_incidentals_per_day = 100\n",
        "food_and_incidental_cost = vacation_days*(total_food_per_day+souvenirs_and_incidentals_per_day)\n",
        "\n",
        "graceland_ticket_cost = 190\n",
        "graceland_cost = num_people * graceland_ticket_cost\n",
        "\n",
        "vacation_budget = gas_cost + lodging_cost + food_and_incidental_cost + graceland_cost\n",
        "print(\"Vacation budget:\",vacation_budget)"
      ],
      "metadata": {
        "colab": {
          "base_uri": "https://localhost:8080/"
        },
        "id": "_MEIq2pNFBHo",
        "outputId": "c9486150-988d-46af-b6a8-168f8c8046b7"
      },
      "execution_count": 9,
      "outputs": [
        {
          "output_type": "stream",
          "name": "stdout",
          "text": [
            "Vacation budget: 3615.275\n"
          ]
        }
      ]
    },
    {
      "cell_type": "markdown",
      "source": [
        "# Types\n"
      ],
      "metadata": {
        "id": "ldK7NONqFECY"
      }
    },
    {
      "cell_type": "markdown",
      "source": [
        "## Values we've seen so far\n",
        "\n",
        "So far, we've seen different kinds of data"
      ],
      "metadata": {
        "id": "ula7R0l7FMfT"
      }
    },
    {
      "cell_type": "code",
      "source": [
        "num_students = 42 #whole numbers\n",
        "avg_gas_estimate = 2.70 #numbers with decimal\n",
        "print(\"Hello world!\") #text data"
      ],
      "metadata": {
        "colab": {
          "base_uri": "https://localhost:8080/"
        },
        "id": "bx1W1a33FCVA",
        "outputId": "e55b60c5-8d6f-4b17-a98c-dc100186561d"
      },
      "execution_count": 10,
      "outputs": [
        {
          "output_type": "stream",
          "name": "stdout",
          "text": [
            "Hello world!\n"
          ]
        }
      ]
    },
    {
      "cell_type": "markdown",
      "source": [
        "All data has a __type__ which defines what kind of thing it is and what you can do with it."
      ],
      "metadata": {
        "id": "LET69W6pFPhU"
      }
    },
    {
      "cell_type": "markdown",
      "source": [
        "## Names of some types\n",
        "\n",
        "__integer:__ whole numbers\n",
        "\n",
        "__floating point:__ numbers with decimal points\n",
        "\n",
        "__string:__ text data\n",
        "\n",
        "The `type()` function can be used to tell you what kind of type something is. \n",
        "\n",
        "Both values and variables can have types."
      ],
      "metadata": {
        "id": "ZnakHcedFRJw"
      }
    },
    {
      "cell_type": "code",
      "source": [
        "type(2.70)"
      ],
      "metadata": {
        "colab": {
          "base_uri": "https://localhost:8080/"
        },
        "id": "boFC42gvFODi",
        "outputId": "92118188-95ab-4a4a-ef4d-f1abc699fab7"
      },
      "execution_count": 11,
      "outputs": [
        {
          "output_type": "execute_result",
          "data": {
            "text/plain": [
              "float"
            ]
          },
          "metadata": {},
          "execution_count": 11
        }
      ]
    },
    {
      "cell_type": "code",
      "source": [
        "type(avg_gas_estimate)"
      ],
      "metadata": {
        "colab": {
          "base_uri": "https://localhost:8080/"
        },
        "id": "cEnQBCnEFTPO",
        "outputId": "d918359e-47b8-4776-a5a6-be80b2d6cff4"
      },
      "execution_count": 12,
      "outputs": [
        {
          "output_type": "execute_result",
          "data": {
            "text/plain": [
              "float"
            ]
          },
          "metadata": {},
          "execution_count": 12
        }
      ]
    },
    {
      "cell_type": "code",
      "source": [
        "type(\"Hello world\")"
      ],
      "metadata": {
        "colab": {
          "base_uri": "https://localhost:8080/"
        },
        "id": "zNIJL9XcFUPx",
        "outputId": "1a4792b3-7170-44f0-fc73-0952a3f629cd"
      },
      "execution_count": 13,
      "outputs": [
        {
          "output_type": "execute_result",
          "data": {
            "text/plain": [
              "str"
            ]
          },
          "metadata": {},
          "execution_count": 13
        }
      ]
    },
    {
      "cell_type": "code",
      "source": [
        "type(num_students)"
      ],
      "metadata": {
        "colab": {
          "base_uri": "https://localhost:8080/"
        },
        "id": "9a72ZPQaFVZE",
        "outputId": "44af5317-4a20-4ff1-ca81-4209f2f51f3c"
      },
      "execution_count": 14,
      "outputs": [
        {
          "output_type": "execute_result",
          "data": {
            "text/plain": [
              "int"
            ]
          },
          "metadata": {},
          "execution_count": 14
        }
      ]
    },
    {
      "cell_type": "markdown",
      "source": [
        "## Expressions on strings\n",
        "\n",
        "We've seen how arithmetic operators work on numerical types like ints and floats.\n",
        "\n",
        "Strings have their own operators too - and some look like arithmetic operators!"
      ],
      "metadata": {
        "id": "Df6Y23S0FX0V"
      }
    },
    {
      "cell_type": "code",
      "source": [
        "greeting = \"Hello\"\n",
        "name = \"Meredith\"\n",
        "greeting+name"
      ],
      "metadata": {
        "colab": {
          "base_uri": "https://localhost:8080/",
          "height": 35
        },
        "id": "-tUiQ3RaFWQo",
        "outputId": "6fb846d5-5c38-47f1-a9d0-3284038c3ff9"
      },
      "execution_count": 15,
      "outputs": [
        {
          "output_type": "execute_result",
          "data": {
            "text/plain": [
              "'HelloMeredith'"
            ],
            "application/vnd.google.colaboratory.intrinsic+json": {
              "type": "string"
            }
          },
          "metadata": {},
          "execution_count": 15
        }
      ]
    },
    {
      "cell_type": "code",
      "source": [
        "greeting-name #not allowed"
      ],
      "metadata": {
        "colab": {
          "base_uri": "https://localhost:8080/",
          "height": 169
        },
        "id": "K0kPOlBCFZlr",
        "outputId": "7ffaec8b-9c23-4288-8458-8482fe77035b"
      },
      "execution_count": 16,
      "outputs": [
        {
          "output_type": "error",
          "ename": "TypeError",
          "evalue": "ignored",
          "traceback": [
            "\u001b[0;31m---------------------------------------------------------------------------\u001b[0m",
            "\u001b[0;31mTypeError\u001b[0m                                 Traceback (most recent call last)",
            "\u001b[0;32m<ipython-input-16-ea5c4b3c4eb7>\u001b[0m in \u001b[0;36m<module>\u001b[0;34m\u001b[0m\n\u001b[0;32m----> 1\u001b[0;31m \u001b[0mgreeting\u001b[0m\u001b[0;34m-\u001b[0m\u001b[0mname\u001b[0m \u001b[0;31m#not allowed\u001b[0m\u001b[0;34m\u001b[0m\u001b[0;34m\u001b[0m\u001b[0m\n\u001b[0m",
            "\u001b[0;31mTypeError\u001b[0m: unsupported operand type(s) for -: 'str' and 'str'"
          ]
        }
      ]
    },
    {
      "cell_type": "markdown",
      "source": [
        "## Can't apply all string operations to numbers\n",
        "\n",
        "Similarly, you can't do everything with numbers that you can with strings."
      ],
      "metadata": {
        "id": "Eov4e02rFdWR"
      }
    },
    {
      "cell_type": "code",
      "source": [
        "len(name)"
      ],
      "metadata": {
        "colab": {
          "base_uri": "https://localhost:8080/"
        },
        "id": "lWokmAP2FbU8",
        "outputId": "186e9772-a9cb-4084-e769-b4539df6ec52"
      },
      "execution_count": 17,
      "outputs": [
        {
          "output_type": "execute_result",
          "data": {
            "text/plain": [
              "8"
            ]
          },
          "metadata": {},
          "execution_count": 17
        }
      ]
    },
    {
      "cell_type": "code",
      "source": [
        "len(num_students)"
      ],
      "metadata": {
        "colab": {
          "base_uri": "https://localhost:8080/",
          "height": 169
        },
        "id": "-jWOwm91Fe8V",
        "outputId": "23cf9bf5-3245-4fc2-9bc4-58c9d456a80b"
      },
      "execution_count": 18,
      "outputs": [
        {
          "output_type": "error",
          "ename": "TypeError",
          "evalue": "ignored",
          "traceback": [
            "\u001b[0;31m---------------------------------------------------------------------------\u001b[0m",
            "\u001b[0;31mTypeError\u001b[0m                                 Traceback (most recent call last)",
            "\u001b[0;32m<ipython-input-18-5c4b8b950dfb>\u001b[0m in \u001b[0;36m<module>\u001b[0;34m\u001b[0m\n\u001b[0;32m----> 1\u001b[0;31m \u001b[0mlen\u001b[0m\u001b[0;34m(\u001b[0m\u001b[0mnum_students\u001b[0m\u001b[0;34m)\u001b[0m\u001b[0;34m\u001b[0m\u001b[0;34m\u001b[0m\u001b[0m\n\u001b[0m",
            "\u001b[0;31mTypeError\u001b[0m: object of type 'int' has no len()"
          ]
        }
      ]
    },
    {
      "cell_type": "markdown",
      "source": [
        "## Other types we'll see\n",
        "\n",
        "There are several other built-in types that we'll hear more about later like\n",
        "\n",
        "__Boolean:__ can have value `True` or `False`\n",
        "\n",
        "__List:__ for keeping track of a sequence of values"
      ],
      "metadata": {
        "id": "Mpc_bP0KFhql"
      }
    },
    {
      "cell_type": "code",
      "source": [
        "type(False)"
      ],
      "metadata": {
        "colab": {
          "base_uri": "https://localhost:8080/"
        },
        "id": "Ab09xbUoFgD1",
        "outputId": "0e0b5ea9-3220-448e-bd15-5026d6e50083"
      },
      "execution_count": 19,
      "outputs": [
        {
          "output_type": "execute_result",
          "data": {
            "text/plain": [
              "bool"
            ]
          },
          "metadata": {},
          "execution_count": 19
        }
      ]
    },
    {
      "cell_type": "code",
      "source": [
        "type([1,2,3])"
      ],
      "metadata": {
        "colab": {
          "base_uri": "https://localhost:8080/"
        },
        "id": "A_iRHHs-FjVA",
        "outputId": "9df80d0d-dfd8-4027-e026-87cebb2acaac"
      },
      "execution_count": 20,
      "outputs": [
        {
          "output_type": "execute_result",
          "data": {
            "text/plain": [
              "list"
            ]
          },
          "metadata": {},
          "execution_count": 20
        }
      ]
    },
    {
      "cell_type": "markdown",
      "source": [
        "You can even make your own types or use those that others have created."
      ],
      "metadata": {
        "id": "J48BXTe3Fl_K"
      }
    }
  ]
}