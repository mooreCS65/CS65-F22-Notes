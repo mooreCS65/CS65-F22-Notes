{
  "nbformat": 4,
  "nbformat_minor": 0,
  "metadata": {
    "colab": {
      "provenance": []
    },
    "kernelspec": {
      "name": "python3",
      "display_name": "Python 3"
    },
    "language_info": {
      "name": "python"
    }
  },
  "cells": [
    {
      "cell_type": "markdown",
      "source": [
        "#Comments\n",
        "#### CS 65: Introduction to Computer Science I"
      ],
      "metadata": {
        "id": "yzF1uJY96Cgb"
      }
    },
    {
      "cell_type": "markdown",
      "source": [
        "## Programming for humans\n",
        "\n",
        "__Comments:__ elements of a program which are ignored by the interpreter\n",
        "* help document how to use the code properly\n",
        "* explain what's going on with more complex code\n",
        "* cite references\n",
        "* temporarily ignore some code\n",
        "* anything for the sake of humans (you and others)\n"
      ],
      "metadata": {
        "id": "VHyQJFuT5_3r"
      }
    },
    {
      "cell_type": "markdown",
      "source": [
        "`#` starts a comment - everything on the rest of the line is ignored"
      ],
      "metadata": {
        "id": "q_HC4QxA6Ioz"
      }
    },
    {
      "cell_type": "code",
      "execution_count": null,
      "metadata": {
        "id": "k5e-iwrf5x3F"
      },
      "outputs": [],
      "source": [
        "avg_gas_estimate = 2.70  #current price per gallon in Des Moines\n",
        "round_trip_miles_to_memphis = 1224\n",
        "vehicle_mpg = 32\n",
        "gas_cost = avg_gas_estimate * (round_trip_miles_to_memphis/vehicle_mpg)"
      ]
    },
    {
      "cell_type": "markdown",
      "source": [
        "## Multiline comments\n",
        "\n",
        "Text surrounded by three sets of quotes will all be ignored - spanning multiple lines"
      ],
      "metadata": {
        "id": "1PihMGys6MR_"
      }
    },
    {
      "cell_type": "code",
      "source": [
        "\"\"\"\n",
        "Here are some estimates used to help calculate\n",
        "the budget for our vacation to Memphis next\n",
        "spring break.\n",
        "\"\"\"\n",
        "avg_gas_estimate = 2.70 #current price in Des Moines\n",
        "round_trip_miles_to_memphis = 1224\n",
        "vehicle_mpg = 32\n",
        "gas_cost = avg_gas_estimate * (round_trip_miles_to_memphis/vehicle_mpg)"
      ],
      "metadata": {
        "id": "4ZklleUC6KuO"
      },
      "execution_count": null,
      "outputs": []
    },
    {
      "cell_type": "markdown",
      "source": [
        "## Common uses"
      ],
      "metadata": {
        "id": "Z_eao3gW6Pvn"
      }
    },
    {
      "cell_type": "code",
      "source": [
        "avg_gas_estimate = 2.70 #current price in Des Moines\n",
        "round_trip_miles_to_memphis = 1224\n",
        "vehicle_mpg = 32\n",
        "gas_cost = avg_gas_estimate * (round_trip_miles_to_memphis/vehicle_mpg)\n",
        "\n",
        "vacation_days = 8\n",
        "\n",
        "#camping_nights = 3\n",
        "#hotel_nights = vacation_days-1-camping_nights\n",
        "hotel_nights = vacation_days-1\n",
        "hotel_per_night_cost = 96 #Airbnb near Graceland\n",
        "lodging_cost = hotel_nights * hotel_per_night_cost\n",
        "\n",
        "food_per_person_per_day = 40\n",
        "num_people = 4\n",
        "total_food_per_day = food_per_person_per_day*num_people\n",
        "souvenirs_and_incidentals_per_day = 100\n",
        "food_and_incidental_cost = vacation_days*(total_food_per_day+souvenirs_and_incidentals_per_day)\n",
        "\n",
        "#TODO: look up cost for a Grizzlies game and see if we can afford it\n",
        "\n",
        "#https://www.graceland.com/ticket-information\n",
        "graceland_ticket_cost = 190\n",
        "graceland_cost = num_people * graceland_ticket_cost\n",
        "\n",
        "vacation_budget = gas_cost + lodging_cost + food_and_incidental_cost + graceland_cost\n",
        "print(\"Vacation budget:\",vacation_budget)"
      ],
      "metadata": {
        "colab": {
          "base_uri": "https://localhost:8080/"
        },
        "id": "sghEpOXn6OIC",
        "outputId": "ff913f34-970e-4ac4-b8e2-4d16a60d71c1"
      },
      "execution_count": null,
      "outputs": [
        {
          "output_type": "stream",
          "name": "stdout",
          "text": [
            "Vacation budget: 3615.275\n"
          ]
        }
      ]
    },
    {
      "cell_type": "code",
      "source": [],
      "metadata": {
        "id": "pR-NzQjb6S7p"
      },
      "execution_count": null,
      "outputs": []
    }
  ]
}